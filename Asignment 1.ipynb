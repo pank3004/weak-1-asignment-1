{
 "cells": [
  {
   "cell_type": "code",
   "execution_count": 5,
   "id": "db9018e0-cdbb-4668-83ec-169e427ed279",
   "metadata": {},
   "outputs": [],
   "source": [
    "'''Q1. Create one variable containing following type of data:\n",
    "(i) string\n",
    "(ii) list\n",
    "(iii) float\n",
    "(iv) tuple  '''"
   ]
  },
  {
   "cell_type": "code",
   "execution_count": 6,
   "id": "9385df57-2f06-4f6a-b8e9-6dcd39d59acd",
   "metadata": {},
   "outputs": [],
   "source": [
    "str='pankaj'"
   ]
  },
  {
   "cell_type": "code",
   "execution_count": 7,
   "id": "762b1f39-5cc2-4a27-8a42-862143ad130a",
   "metadata": {},
   "outputs": [
    {
     "data": {
      "text/plain": [
       "'pankaj'"
      ]
     },
     "execution_count": 7,
     "metadata": {},
     "output_type": "execute_result"
    }
   ],
   "source": [
    "str"
   ]
  },
  {
   "cell_type": "code",
   "execution_count": 10,
   "id": "779a3261-d090-4216-8256-e0acaf98d083",
   "metadata": {},
   "outputs": [
    {
     "data": {
      "text/plain": [
       "str"
      ]
     },
     "execution_count": 10,
     "metadata": {},
     "output_type": "execute_result"
    }
   ],
   "source": [
    "type(str)"
   ]
  },
  {
   "cell_type": "code",
   "execution_count": 8,
   "id": "5a2cfcf8-cac8-4f34-81bf-e3e415d9e14a",
   "metadata": {},
   "outputs": [],
   "source": [
    "l=['pankaj', 345, True, 4+6j, [4,3,'k'], 4.7, 'i']"
   ]
  },
  {
   "cell_type": "code",
   "execution_count": 9,
   "id": "8ef25976-c48d-4ece-aa98-7c8d9fbdbcb4",
   "metadata": {},
   "outputs": [
    {
     "data": {
      "text/plain": [
       "['pankaj', 345, True, (4+6j), [4, 3, 'k'], 4.7, 'i']"
      ]
     },
     "execution_count": 9,
     "metadata": {},
     "output_type": "execute_result"
    }
   ],
   "source": [
    "l"
   ]
  },
  {
   "cell_type": "code",
   "execution_count": 12,
   "id": "53020203-fd08-4169-97bb-b3943bc74a5d",
   "metadata": {},
   "outputs": [],
   "source": [
    "float_value=67.45"
   ]
  },
  {
   "cell_type": "code",
   "execution_count": 11,
   "id": "44fb41da-d40b-4404-959f-74048be7d5b1",
   "metadata": {},
   "outputs": [
    {
     "data": {
      "text/plain": [
       "list"
      ]
     },
     "execution_count": 11,
     "metadata": {},
     "output_type": "execute_result"
    }
   ],
   "source": [
    "type(l)"
   ]
  },
  {
   "cell_type": "code",
   "execution_count": 13,
   "id": "e79f0f6f-888b-480b-b43e-4347a2952021",
   "metadata": {},
   "outputs": [
    {
     "data": {
      "text/plain": [
       "float"
      ]
     },
     "execution_count": 13,
     "metadata": {},
     "output_type": "execute_result"
    }
   ],
   "source": [
    "type(float_value)"
   ]
  },
  {
   "cell_type": "code",
   "execution_count": 25,
   "id": "4ba4f587-bd3e-473f-984c-176406fcdf73",
   "metadata": {},
   "outputs": [],
   "source": [
    "t=(3,'pankaj', 5.3, [3,2, 'pankaj', ], 't', True)"
   ]
  },
  {
   "cell_type": "code",
   "execution_count": 26,
   "id": "4fe62c7c-aea6-4bc0-b607-82204f4be0b0",
   "metadata": {},
   "outputs": [
    {
     "data": {
      "text/plain": [
       "(3, 'pankaj', 5.3, [3, 2, 'pankaj'], 't', True)"
      ]
     },
     "execution_count": 26,
     "metadata": {},
     "output_type": "execute_result"
    }
   ],
   "source": [
    "t"
   ]
  },
  {
   "cell_type": "code",
   "execution_count": 16,
   "id": "53305380-efd4-4e63-aa37-46aa148319b9",
   "metadata": {},
   "outputs": [
    {
     "data": {
      "text/plain": [
       "tuple"
      ]
     },
     "execution_count": 16,
     "metadata": {},
     "output_type": "execute_result"
    }
   ],
   "source": [
    "type(t)"
   ]
  },
  {
   "cell_type": "code",
   "execution_count": 18,
   "id": "f68e1e8a-fba5-42b6-ab22-9f87ebb10654",
   "metadata": {},
   "outputs": [
    {
     "data": {
      "text/plain": [
       "5.3"
      ]
     },
     "execution_count": 18,
     "metadata": {},
     "output_type": "execute_result"
    }
   ],
   "source": [
    "t[2]"
   ]
  },
  {
   "cell_type": "code",
   "execution_count": 27,
   "id": "de95d363-e08e-4ee5-ab28-c912b6534b1b",
   "metadata": {},
   "outputs": [
    {
     "ename": "TypeError",
     "evalue": "'tuple' object does not support item assignment",
     "output_type": "error",
     "traceback": [
      "\u001b[0;31m---------------------------------------------------------------------------\u001b[0m",
      "\u001b[0;31mTypeError\u001b[0m                                 Traceback (most recent call last)",
      "Cell \u001b[0;32mIn[27], line 1\u001b[0m\n\u001b[0;32m----> 1\u001b[0m \u001b[43mt\u001b[49m\u001b[43m[\u001b[49m\u001b[38;5;241;43m2\u001b[39;49m\u001b[43m]\u001b[49m\u001b[38;5;241m=\u001b[39m\u001b[38;5;241m2.6\u001b[39m     \u001b[38;5;66;03m# means tuple is immutable\u001b[39;00m\n",
      "\u001b[0;31mTypeError\u001b[0m: 'tuple' object does not support item assignment"
     ]
    }
   ],
   "source": [
    "t[2]=2.6     "
   ]
  },
  {
   "cell_type": "code",
   "execution_count": null,
   "id": "b20089a0-f584-401a-802d-59dcbcdfca37",
   "metadata": {},
   "outputs": [],
   "source": [
    "'''Q2. Given are some following variables containing data:\n",
    "(i) var1 = ‘ ‘\n",
    "(ii) var2 = ‘[ DS , ML , Python]’\n",
    "(iii) var3 = [ ‘DS’ , ’ML’ , ‘Python’ ]\n",
    "(iv) var4 = 1.\n",
    "What will be the data type of the above given variable.'''"
   ]
  },
  {
   "cell_type": "code",
   "execution_count": 29,
   "id": "bf326019-ff52-46bd-af6f-a9f4429c0232",
   "metadata": {},
   "outputs": [],
   "source": [
    "var1='pankaj'"
   ]
  },
  {
   "cell_type": "code",
   "execution_count": 30,
   "id": "47c3dd20-4bbf-452f-8713-a4a603ccbbf8",
   "metadata": {},
   "outputs": [
    {
     "data": {
      "text/plain": [
       "'pankaj'"
      ]
     },
     "execution_count": 30,
     "metadata": {},
     "output_type": "execute_result"
    }
   ],
   "source": [
    "var1"
   ]
  },
  {
   "cell_type": "code",
   "execution_count": 31,
   "id": "ce7553e9-b97e-43e4-aeb6-105f067205e4",
   "metadata": {},
   "outputs": [
    {
     "data": {
      "text/plain": [
       "str"
      ]
     },
     "execution_count": 31,
     "metadata": {},
     "output_type": "execute_result"
    }
   ],
   "source": [
    "type(var1)"
   ]
  },
  {
   "cell_type": "code",
   "execution_count": 32,
   "id": "a6488aa6-8386-4a4d-a043-127ee3805748",
   "metadata": {},
   "outputs": [],
   "source": [
    "v=''"
   ]
  },
  {
   "cell_type": "code",
   "execution_count": 33,
   "id": "6e30c737-120e-4d87-9ac5-aa088b6896e3",
   "metadata": {},
   "outputs": [
    {
     "data": {
      "text/plain": [
       "str"
      ]
     },
     "execution_count": 33,
     "metadata": {},
     "output_type": "execute_result"
    }
   ],
   "source": [
    "type(v)"
   ]
  },
  {
   "cell_type": "code",
   "execution_count": 35,
   "id": "9daced45-7832-48f4-bbe7-a3076e676b47",
   "metadata": {},
   "outputs": [],
   "source": [
    "var2 = '[ DS , ML , Python]'"
   ]
  },
  {
   "cell_type": "code",
   "execution_count": 36,
   "id": "be0f12dd-e873-4172-a699-3195368ae3ee",
   "metadata": {},
   "outputs": [
    {
     "data": {
      "text/plain": [
       "'[ DS , ML , Python]'"
      ]
     },
     "execution_count": 36,
     "metadata": {},
     "output_type": "execute_result"
    }
   ],
   "source": [
    "var2"
   ]
  },
  {
   "cell_type": "code",
   "execution_count": 37,
   "id": "b74d8f1b-4e32-4f00-8642-ffddf361bd38",
   "metadata": {},
   "outputs": [
    {
     "data": {
      "text/plain": [
       "str"
      ]
     },
     "execution_count": 37,
     "metadata": {},
     "output_type": "execute_result"
    }
   ],
   "source": [
    "type(var2)"
   ]
  },
  {
   "cell_type": "code",
   "execution_count": 38,
   "id": "a8c343a6-ae7a-4bd5-a68b-1e6a0a2dcee2",
   "metadata": {},
   "outputs": [],
   "source": [
    "var3 = [ 'DS' , 'ML' , 'Python' ]"
   ]
  },
  {
   "cell_type": "code",
   "execution_count": 39,
   "id": "db3b0c2d-7baf-4054-a610-250d5a809700",
   "metadata": {},
   "outputs": [
    {
     "data": {
      "text/plain": [
       "['DS', 'ML', 'Python']"
      ]
     },
     "execution_count": 39,
     "metadata": {},
     "output_type": "execute_result"
    }
   ],
   "source": [
    "var3"
   ]
  },
  {
   "cell_type": "code",
   "execution_count": 40,
   "id": "23fef403-c1c1-41b7-bc60-60d608d5b527",
   "metadata": {},
   "outputs": [
    {
     "data": {
      "text/plain": [
       "list"
      ]
     },
     "execution_count": 40,
     "metadata": {},
     "output_type": "execute_result"
    }
   ],
   "source": [
    "type(var3)"
   ]
  },
  {
   "cell_type": "code",
   "execution_count": 42,
   "id": "7466a0c1-bc56-4a1c-aeb1-b50841ea939d",
   "metadata": {},
   "outputs": [],
   "source": [
    "var4 = 1"
   ]
  },
  {
   "cell_type": "code",
   "execution_count": 43,
   "id": "96b68376-76ca-4980-a0f8-b0cda5125984",
   "metadata": {},
   "outputs": [
    {
     "data": {
      "text/plain": [
       "1"
      ]
     },
     "execution_count": 43,
     "metadata": {},
     "output_type": "execute_result"
    }
   ],
   "source": [
    "var4"
   ]
  },
  {
   "cell_type": "code",
   "execution_count": 45,
   "id": "fa476b0a-bb20-4c27-aaaa-88cbc8b895b6",
   "metadata": {},
   "outputs": [
    {
     "data": {
      "text/plain": [
       "int"
      ]
     },
     "execution_count": 45,
     "metadata": {},
     "output_type": "execute_result"
    }
   ],
   "source": [
    "type(var4)"
   ]
  },
  {
   "cell_type": "code",
   "execution_count": null,
   "id": "cd837958-1e79-43e4-a3d6-82a90dd9fa10",
   "metadata": {},
   "outputs": [],
   "source": [
    "'''Q3. Explain the use of the following operators using an example:\n",
    "(i) /\n",
    "(ii) %\n",
    "(iii) //\n",
    "(iv) **\n",
    "               '''"
   ]
  },
  {
   "cell_type": "code",
   "execution_count": 47,
   "id": "bd2b6015-26c7-4e2e-ae4b-432d64f76879",
   "metadata": {},
   "outputs": [],
   "source": [
    "a=7/3    # Quotient"
   ]
  },
  {
   "cell_type": "code",
   "execution_count": 48,
   "id": "8f1ac43f-b0e8-407b-af57-460c1dd9182a",
   "metadata": {},
   "outputs": [
    {
     "data": {
      "text/plain": [
       "2.3333333333333335"
      ]
     },
     "execution_count": 48,
     "metadata": {},
     "output_type": "execute_result"
    }
   ],
   "source": [
    "a"
   ]
  },
  {
   "cell_type": "code",
   "execution_count": 49,
   "id": "68651a0b-7f12-4212-8ad4-f26da69dcee1",
   "metadata": {},
   "outputs": [],
   "source": [
    "b=7%3     # reminder"
   ]
  },
  {
   "cell_type": "code",
   "execution_count": 50,
   "id": "e63d1495-22f4-4c60-83a8-88f5f30e0244",
   "metadata": {},
   "outputs": [
    {
     "data": {
      "text/plain": [
       "1"
      ]
     },
     "execution_count": 50,
     "metadata": {},
     "output_type": "execute_result"
    }
   ],
   "source": [
    "b"
   ]
  },
  {
   "cell_type": "code",
   "execution_count": 60,
   "id": "7be2aff6-7fab-4987-bcd5-171810d70104",
   "metadata": {},
   "outputs": [],
   "source": [
    "c=7//3   # perfect division or quetinent before desimal"
   ]
  },
  {
   "cell_type": "code",
   "execution_count": 61,
   "id": "032bea90-8654-4cb8-9ada-a8b2189de969",
   "metadata": {},
   "outputs": [
    {
     "data": {
      "text/plain": [
       "2"
      ]
     },
     "execution_count": 61,
     "metadata": {},
     "output_type": "execute_result"
    }
   ],
   "source": [
    "c"
   ]
  },
  {
   "cell_type": "code",
   "execution_count": 66,
   "id": "d873af21-d598-45c1-8d8d-17b3ec418158",
   "metadata": {},
   "outputs": [],
   "source": [
    "c=4**3   # power"
   ]
  },
  {
   "cell_type": "code",
   "execution_count": 67,
   "id": "61dc85a7-60bb-44e0-be30-21e2fd3207cd",
   "metadata": {},
   "outputs": [
    {
     "data": {
      "text/plain": [
       "64"
      ]
     },
     "execution_count": 67,
     "metadata": {},
     "output_type": "execute_result"
    }
   ],
   "source": [
    "c"
   ]
  },
  {
   "cell_type": "code",
   "execution_count": null,
   "id": "eaa7a835-dc3d-49c4-a98d-834a2579fd72",
   "metadata": {},
   "outputs": [],
   "source": [
    "'''Q4. Create a list of length 10 of your choice containing multiple types of data. Using for loop print the\n",
    "element and its data type.   '''"
   ]
  },
  {
   "cell_type": "code",
   "execution_count": 80,
   "id": "d5c75256-6513-494d-bca4-cee4c3e35f71",
   "metadata": {},
   "outputs": [],
   "source": [
    "L=['pankaj', 45, 4.5, True, 5+7j, ['p', 4, 5.4], (5, 3.6, True), {}, {'key': 'value'},{3,5,'a'}]"
   ]
  },
  {
   "cell_type": "code",
   "execution_count": 81,
   "id": "fbab541d-0f84-43af-8485-ee84c5e421fe",
   "metadata": {},
   "outputs": [
    {
     "name": "stdout",
     "output_type": "stream",
     "text": [
      "pankaj <class 'str'>\n",
      "45 <class 'int'>\n",
      "4.5 <class 'float'>\n",
      "True <class 'bool'>\n",
      "(5+7j) <class 'complex'>\n",
      "['p', 4, 5.4] <class 'list'>\n",
      "(5, 3.6, True) <class 'tuple'>\n",
      "{} <class 'dict'>\n",
      "{'key': 'value'} <class 'dict'>\n",
      "{3, 5, 'a'} <class 'set'>\n"
     ]
    }
   ],
   "source": [
    "for i in L:\n",
    "    print(i, type(i))"
   ]
  },
  {
   "cell_type": "code",
   "execution_count": 82,
   "id": "f13e0307-3799-4193-a3fe-86e5405ca8e2",
   "metadata": {},
   "outputs": [
    {
     "data": {
      "text/plain": [
       "10"
      ]
     },
     "execution_count": 82,
     "metadata": {},
     "output_type": "execute_result"
    }
   ],
   "source": [
    "len(L)"
   ]
  },
  {
   "cell_type": "code",
   "execution_count": 83,
   "id": "5a128bb6-4109-4574-9553-247dcb9f42df",
   "metadata": {},
   "outputs": [
    {
     "data": {
      "text/plain": [
       "['pankaj',\n",
       " 45,\n",
       " 4.5,\n",
       " True,\n",
       " (5+7j),\n",
       " ['p', 4, 5.4],\n",
       " (5, 3.6, True),\n",
       " {},\n",
       " {'key': 'value'},\n",
       " {3, 5, 'a'}]"
      ]
     },
     "execution_count": 83,
     "metadata": {},
     "output_type": "execute_result"
    }
   ],
   "source": [
    "L"
   ]
  },
  {
   "cell_type": "code",
   "execution_count": null,
   "id": "50e89ad7-f94f-477a-b3a0-136cfe145536",
   "metadata": {},
   "outputs": [],
   "source": [
    "'''Q5. Using a while loop, verify if the number A is purely divisible by number B and if so then how many\n",
    "times it can be divisible.'''"
   ]
  },
  {
   "cell_type": "code",
   "execution_count": 1,
   "id": "1841e074-19a2-4cea-911b-6080665d537b",
   "metadata": {},
   "outputs": [
    {
     "name": "stdin",
     "output_type": "stream",
     "text": [
      "Enter number A: 12\n",
      "Enter number B: 5\n"
     ]
    },
    {
     "name": "stdout",
     "output_type": "stream",
     "text": [
      "purly not divisial 12 by 5\n"
     ]
    }
   ],
   "source": [
    "A,B=int(input('Enter number A:' )),int(input('Enter number B:' ))\n",
    "\n",
    "while True: \n",
    "    if A%B==0:\n",
    "        print(\"purly divisial\", A ,\"by\", B)\n",
    "        print(A//B ,'time divisiable')\n",
    "        break\n",
    "    else: \n",
    "        print(\"purly not divisial\", A ,\"by\", B)\n",
    "        break"
   ]
  },
  {
   "cell_type": "code",
   "execution_count": null,
   "id": "a8146508-37c2-4d25-bead-507e42332ca5",
   "metadata": {},
   "outputs": [],
   "source": [
    "Q6. Create a list containing 25 int type data. Using for loop and if-else condition print if the element is\n",
    "divisible by 3 or not."
   ]
  },
  {
   "cell_type": "code",
   "execution_count": 42,
   "id": "1329a90c-7692-4f7f-b96b-6798c1abcbaa",
   "metadata": {},
   "outputs": [
    {
     "name": "stdout",
     "output_type": "stream",
     "text": [
      "1 is not divisiable by 3\n",
      "4 is not divisiable by 3\n",
      "3 is divisiable by 3\n",
      "6 is divisiable by 3\n",
      "7 is not divisiable by 3\n",
      "3 is divisiable by 3\n",
      "22 is not divisiable by 3\n",
      "99 is divisiable by 3\n",
      "98 is not divisiable by 3\n",
      "998 is not divisiable by 3\n",
      "887 is not divisiable by 3\n",
      "765 is divisiable by 3\n",
      "43 is not divisiable by 3\n",
      "56 is not divisiable by 3\n",
      "78 is divisiable by 3\n",
      "8823 is divisiable by 3\n",
      "54 is divisiable by 3\n",
      "322 is not divisiable by 3\n",
      "5 is not divisiable by 3\n",
      "6 is divisiable by 3\n",
      "5 is not divisiable by 3\n",
      "67 is not divisiable by 3\n",
      "3456 is divisiable by 3\n",
      "653 is not divisiable by 3\n",
      "5 is not divisiable by 3\n",
      "these are the list of by divisiable by 3\n",
      "[3, 6, 3, 99, 765, 78, 8823, 54, 6, 3456]\n",
      "these are the list of by not divisible by 4\n",
      "[1, 4, 7, 22, 98, 998, 887, 43, 56, 322, 5, 5, 67, 653, 5]\n"
     ]
    }
   ],
   "source": [
    "L6=[1,4,3,6,7,3,22,99,98,998,887,765,43,56,78,8823,54,322,5,6,5,67,3456,653,5]\n",
    "\n",
    "DB3=[]\n",
    "NDB3=[]\n",
    "for i in L6:\n",
    "    if i % 3==0:\n",
    "        DB3.append(i)\n",
    "        print(i ,'is divisiable by 3')\n",
    "    else: \n",
    "        NDB3.append(i)\n",
    "        print(i ,'is not divisiable by 3')\n",
    "        \n",
    "print('these are the list of by divisiable by 3')\n",
    "print(DB3)\n",
    "print('these are the list of by not divisible by 4')\n",
    "print(NDB3)"
   ]
  },
  {
   "cell_type": "code",
   "execution_count": 41,
   "id": "c509d004-0c53-45f2-8786-c54492c15cff",
   "metadata": {},
   "outputs": [
    {
     "data": {
      "text/plain": [
       "[3, 6, 3, 99, 765, 78, 8823, 54, 6, 3456]"
      ]
     },
     "execution_count": 41,
     "metadata": {},
     "output_type": "execute_result"
    }
   ],
   "source": []
  },
  {
   "cell_type": "code",
   "execution_count": 25,
   "id": "05fa56e8-5cb3-4856-9828-190a72a11804",
   "metadata": {},
   "outputs": [
    {
     "data": {
      "text/plain": [
       "25"
      ]
     },
     "execution_count": 25,
     "metadata": {},
     "output_type": "execute_result"
    }
   ],
   "source": [
    "len(L6)"
   ]
  },
  {
   "cell_type": "code",
   "execution_count": null,
   "id": "5e5eab11-7bae-4ff2-baef-aff9ed5e6097",
   "metadata": {},
   "outputs": [],
   "source": [
    "Q7. What do you understand about mutable and immutable data types? Give examples for both showing\n",
    "this property."
   ]
  },
  {
   "cell_type": "code",
   "execution_count": null,
   "id": "6f20837a-f1bd-4f4a-b777-1dfc55c03fb4",
   "metadata": {},
   "outputs": [],
   "source": [
    "'''An object that allows you to change its values without changing its identity is a mutable object. The changes that \n",
    "you can perform on a mutable object's value are known as mutations. In contrast, an object that doesn't allow changes\n",
    "in its value is an immutable object.'''"
   ]
  },
  {
   "cell_type": "code",
   "execution_count": 26,
   "id": "2b67af84-f373-4dd4-991c-670f6e5bf86a",
   "metadata": {},
   "outputs": [],
   "source": [
    "str='pankaj'"
   ]
  },
  {
   "cell_type": "code",
   "execution_count": 29,
   "id": "b43e656a-f398-415c-9ee6-36a5b3fe6a5d",
   "metadata": {},
   "outputs": [
    {
     "data": {
      "text/plain": [
       "'a'"
      ]
     },
     "execution_count": 29,
     "metadata": {},
     "output_type": "execute_result"
    }
   ],
   "source": [
    "str[4]"
   ]
  },
  {
   "cell_type": "code",
   "execution_count": 30,
   "id": "617eecbe-961c-43eb-9d06-8cbcda320be1",
   "metadata": {},
   "outputs": [
    {
     "ename": "TypeError",
     "evalue": "'str' object does not support item assignment",
     "output_type": "error",
     "traceback": [
      "\u001b[0;31m---------------------------------------------------------------------------\u001b[0m",
      "\u001b[0;31mTypeError\u001b[0m                                 Traceback (most recent call last)",
      "Cell \u001b[0;32mIn[30], line 1\u001b[0m\n\u001b[0;32m----> 1\u001b[0m \u001b[38;5;28;43mstr\u001b[39;49m\u001b[43m[\u001b[49m\u001b[38;5;241;43m4\u001b[39;49m\u001b[43m]\u001b[49m\u001b[38;5;241m=\u001b[39m\u001b[38;5;124m'\u001b[39m\u001b[38;5;124mA\u001b[39m\u001b[38;5;124m'\u001b[39m\n",
      "\u001b[0;31mTypeError\u001b[0m: 'str' object does not support item assignment"
     ]
    }
   ],
   "source": [
    "str[4]='A'   # we can't change change the value it is immutable "
   ]
  },
  {
   "cell_type": "code",
   "execution_count": 31,
   "id": "565850d5-7e96-4983-b35b-7dd3eba32b30",
   "metadata": {},
   "outputs": [],
   "source": [
    "L7=['pankaj', 'data', 5, 6.3, True, 6+8j]"
   ]
  },
  {
   "cell_type": "code",
   "execution_count": 32,
   "id": "09944070-2b66-4441-ae30-2ee232b8660a",
   "metadata": {},
   "outputs": [
    {
     "data": {
      "text/plain": [
       "'data'"
      ]
     },
     "execution_count": 32,
     "metadata": {},
     "output_type": "execute_result"
    }
   ],
   "source": [
    "L7[1]"
   ]
  },
  {
   "cell_type": "code",
   "execution_count": 35,
   "id": "daeaa86d-b36e-4657-a262-19a26cc0a573",
   "metadata": {},
   "outputs": [],
   "source": [
    "L7[1]='Science'    # we can asign the value it is mutable"
   ]
  },
  {
   "cell_type": "code",
   "execution_count": 36,
   "id": "9a176e1c-a9c0-442a-9a40-9584a6432d67",
   "metadata": {},
   "outputs": [
    {
     "data": {
      "text/plain": [
       "['pankaj', 'Science', 5, 6.3, True, (6+8j)]"
      ]
     },
     "execution_count": 36,
     "metadata": {},
     "output_type": "execute_result"
    }
   ],
   "source": [
    "L7"
   ]
  },
  {
   "cell_type": "code",
   "execution_count": null,
   "id": "4e3c7bf0-bf2f-4590-b0f5-cecc32dd7ade",
   "metadata": {},
   "outputs": [],
   "source": []
  }
 ],
 "metadata": {
  "kernelspec": {
   "display_name": "Python 3 (ipykernel)",
   "language": "python",
   "name": "python3"
  },
  "language_info": {
   "codemirror_mode": {
    "name": "ipython",
    "version": 3
   },
   "file_extension": ".py",
   "mimetype": "text/x-python",
   "name": "python",
   "nbconvert_exporter": "python",
   "pygments_lexer": "ipython3",
   "version": "3.10.8"
  }
 },
 "nbformat": 4,
 "nbformat_minor": 5
}
